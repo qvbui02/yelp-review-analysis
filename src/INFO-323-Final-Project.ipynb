{
 "cells": [
  {
   "cell_type": "markdown",
   "id": "7bf44533-685e-45c0-abcf-ba33c45186ca",
   "metadata": {},
   "source": [
    "## Exploring Dataset from Yelp"
   ]
  },
  {
   "cell_type": "code",
   "execution_count": 1,
   "id": "8ff274c5-7c8c-4ef1-90d8-6d87ada5f7da",
   "metadata": {},
   "outputs": [],
   "source": [
    "business_filepath = \"/Users/benjib/Desktop/INFO-323/FinalProject/yelp-review-analysis/Yelp-JSON/yelp_dataset/yelp_academic_dataset_business.json\"\n",
    "checkin_filepath = \"/Users/benjib/Desktop/INFO-323/FinalProject/yelp-review-analysis/Yelp-JSON/yelp_dataset/yelp_academic_dataset_checkin.json\"\n",
    "review_filepath = \"/Users/benjib/Desktop/INFO-323/FinalProject/yelp-review-analysis/Yelp-JSON/yelp_dataset/yelp_academic_dataset_review.json\"\n",
    "tip_filepath = \"/Users/benjib/Desktop/INFO-323/FinalProject/yelp-review-analysis/Yelp-JSON/yelp_dataset/yelp_academic_dataset_tip.json\"\n",
    "user_filepath = \"/Users/benjib/Desktop/INFO-323/FinalProject/yelp-review-analysis/Yelp-JSON/yelp_dataset/yelp_academic_dataset_user.json\""
   ]
  },
  {
   "cell_type": "code",
   "execution_count": null,
   "id": "540ca3ca-f093-4cc1-8c68-0c65acf89aa5",
   "metadata": {},
   "outputs": [],
   "source": [
    "from pyspark.sql import SparkSession\n",
    "\n",
    "spark = SparkSession.builder \\\n",
    "    .appName(\"Local Spark in Jupyter\") \\\n",
    "    .getOrCreate()"
   ]
  },
  {
   "cell_type": "markdown",
   "id": "2f688f72-e2c7-4d99-bf69-801307441d6c",
   "metadata": {},
   "source": [
    "### Business table"
   ]
  },
  {
   "cell_type": "code",
   "execution_count": null,
   "id": "1303ef88-dab1-4796-aa92-b284fa54971a",
   "metadata": {},
   "outputs": [],
   "source": [
    "business_df = spark.read.json(business_filepath)\n",
    "business_df.printSchema()\n",
    "business_df.describe()"
   ]
  }
 ],
 "metadata": {
  "kernelspec": {
   "display_name": "Python 3 (ipykernel)",
   "language": "python",
   "name": "python3"
  },
  "language_info": {
   "codemirror_mode": {
    "name": "ipython",
    "version": 3
   },
   "file_extension": ".py",
   "mimetype": "text/x-python",
   "name": "python",
   "nbconvert_exporter": "python",
   "pygments_lexer": "ipython3",
   "version": "3.13.2"
  }
 },
 "nbformat": 4,
 "nbformat_minor": 5
}
