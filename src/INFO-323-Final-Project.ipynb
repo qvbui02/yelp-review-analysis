{
 "cells": [
  {
   "cell_type": "markdown",
   "id": "7bf44533-685e-45c0-abcf-ba33c45186ca",
   "metadata": {},
   "source": [
    "# Exploring Dataset from Yelp"
   ]
  },
  {
   "cell_type": "code",
   "execution_count": 1,
   "id": "8ff274c5-7c8c-4ef1-90d8-6d87ada5f7da",
   "metadata": {
    "tags": []
   },
   "outputs": [],
   "source": [
    "from pyspark.sql import SparkSession\n",
    "from pyspark.sql.functions import col, when, count, avg, to_timestamp\n",
    "from pyspark.sql.functions import split, explode, trim\n",
    "\n",
    "business_filepath = \"gs://info-323-qb-42/final_project/raw/yelp_academic_dataset_business.json\"\n",
    "review_filepath = \"gs://info-323-qb-42/final_project/raw/yelp_academic_dataset_review.json\"\n",
    "user_filepath = \"gs://info-323-qb-42/final_project/raw/yelp_academic_dataset_user.json\"\n",
    "restaurant_parquet = \"gs://info-323-qb-42/final_project/cleaned/yelp_restaurant_cleaned.parquet\"\n",
    "user_parquet = \"gs://info-323-qb-42/final_project/cleaned/yelp_user_cleaned.parquet\"\n",
    "review_parquet = \"gs://info-323-qb-42/final_project/cleaned/yelp_review_cleaned.parquet\""
   ]
  },
  {
   "cell_type": "code",
   "execution_count": 2,
   "id": "540ca3ca-f093-4cc1-8c68-0c65acf89aa5",
   "metadata": {
    "tags": []
   },
   "outputs": [
    {
     "name": "stderr",
     "output_type": "stream",
     "text": [
      "25/06/11 11:32:59 WARN SparkSession: Using an existing Spark session; only runtime SQL configurations will take effect.\n"
     ]
    }
   ],
   "source": [
    "# create Spark Session\n",
    "spark = SparkSession.builder \\\n",
    "    .appName(\"Local Spark in Jupyter\") \\\n",
    "    .getOrCreate()"
   ]
  },
  {
   "cell_type": "markdown",
   "id": "2f688f72-e2c7-4d99-bf69-801307441d6c",
   "metadata": {},
   "source": [
    "## Business Table"
   ]
  },
  {
   "cell_type": "markdown",
   "id": "677c279d-4a15-4d67-8eef-ae938ab114a3",
   "metadata": {},
   "source": [
    "The `attributes` column contains nested key-value pairs with values stored as strings (e.g., `\"True\"`, `\"False\"`). We will only focus on these attributes for our dataset:\n",
    "- BusinessAcceptsCreditCards\n",
    "- ByAppointmentOnly\n",
    "- RestaurantsDelivery\n",
    "- OutdoorSeating\n",
    "- RestaurantsReservations\n",
    "- RestaurantsTakeOut\n",
    "- RestaurantsAttire\n",
    "- BusinessAcceptsBitcoin\n",
    "- BYOB\n",
    "- DogsAllowed\n",
    "- HappyHour\n",
    "\n",
    "This step will:\n",
    "- Parse the nested structure\n",
    "- Convert string boolean values to actual `BooleanType`\n",
    "- Flatten the dictionary into separate columns for easier analysis\n",
    "\n",
    "**Total: 23 attributes**"
   ]
  },
  {
   "cell_type": "markdown",
   "id": "8d18946e-1568-47d8-8bd9-46b6a9485ad1",
   "metadata": {
    "tags": []
   },
   "source": [
    "### Transform data and unnest attributes from raw dataset"
   ]
  },
  {
   "cell_type": "code",
   "execution_count": 3,
   "id": "1303ef88-dab1-4796-aa92-b284fa54971a",
   "metadata": {
    "tags": []
   },
   "outputs": [
    {
     "name": "stderr",
     "output_type": "stream",
     "text": [
      "25/06/11 11:33:15 WARN SparkStringUtils: Truncated the string representation of a plan since it was too large. This behavior can be adjusted by setting 'spark.sql.debug.maxToStringFields'.\n"
     ]
    }
   ],
   "source": [
    "business_df = spark.read.json(business_filepath)\n",
    "\n",
    "# List of string columns with \"True\"/\"False\" values\n",
    "string_flag_columns = [\n",
    "    \"attributes.BusinessAcceptsCreditCards\",\n",
    "    \"attributes.ByAppointmentOnly\",\n",
    "    \"attributes.RestaurantsDelivery\",\n",
    "    \"attributes.OutdoorSeating\",\n",
    "    \"attributes.RestaurantsReservations\",\n",
    "    \"attributes.RestaurantsTakeOut\",\n",
    "    \"attributes.RestaurantsAttire\",\n",
    "    \"attributes.BusinessAcceptsBitcoin\",\n",
    "    \"attributes.BYOB\",\n",
    "    \"attributes.DogsAllowed\",\n",
    "    \"attributes.HappyHour\"\n",
    "]\n",
    "\n",
    "# Convert each to BooleanType\n",
    "for column_name in string_flag_columns:\n",
    "    business_df = business_df.withColumn(\n",
    "        column_name,\n",
    "        when(col(column_name) == \"True\", True)\n",
    "        .when(col(column_name) == \"False\", False)\n",
    "        .otherwise(None)\n",
    "    )\n",
    "\n",
    "for col_name in string_flag_columns:\n",
    "    flat_name = col_name.split(\".\")[-1]  # e.g., \"attributes.DogsAllowed\" → \"DogsAllowed\"\n",
    "    business_df = business_df.withColumnRenamed(col_name, flat_name)\n",
    "\n",
    "business_df = business_df.filter(col(\"_corrupt_record\").isNull())\n",
    "business_df = business_df.drop('attributes', 'hours', 'stars', 'review_count', '_corrupt_record')"
   ]
  },
  {
   "cell_type": "code",
   "execution_count": 4,
   "id": "d9067f57-b6b5-4c95-8a27-6107211fb865",
   "metadata": {
    "tags": []
   },
   "outputs": [],
   "source": [
    "restaurant_df = business_df.filter(\n",
    "    col(\"categories\").isNotNull() & col(\"categories\").contains(\"Restaurants\")\n",
    ")"
   ]
  },
  {
   "cell_type": "markdown",
   "id": "8f8e714b-6ff5-4648-aea4-23da7093de90",
   "metadata": {},
   "source": [
    "### Store cleaned restaurants data into parquet for less storage cost\n",
    "For the simplicity of this project, I will only use 2 zones for data: raw and cleaned"
   ]
  },
  {
   "cell_type": "code",
   "execution_count": 16,
   "id": "b8cf5ec1-029b-4fb3-b1b1-0d8f407d0bf8",
   "metadata": {
    "tags": []
   },
   "outputs": [
    {
     "name": "stderr",
     "output_type": "stream",
     "text": [
      "                                                                                \r"
     ]
    }
   ],
   "source": [
    "restaurant_df.write.parquet(\"gs://info-323-qb-42/final_project/cleaned/yelp_restaurant_cleaned.parquet\")"
   ]
  },
  {
   "cell_type": "markdown",
   "id": "791b9b73-e882-492b-9f58-c71d50874d4a",
   "metadata": {},
   "source": [
    "## User Table"
   ]
  },
  {
   "cell_type": "markdown",
   "id": "2685cb53-aedc-4956-88f3-9f7c991fb3d7",
   "metadata": {},
   "source": [
    "- user_id\n",
    "- name\n",
    "- yelping_since\n",
    "- fans\n",
    "- elite\n",
    "- funny\n",
    "- cool\n",
    "- useful\n",
    "- compliment_hot\n",
    "- compliment_more\n",
    "- compliment_profile\n",
    "- compliment_cute\n",
    "- compliment_list\n",
    "- compliment_note\n",
    "- compliment_plain\n",
    "- compliment_cool\n",
    "- compliment_funny\n",
    "- compliment_writer\n",
    "- compliment_photos\n",
    "\n",
    "**Total: 19 attributes**"
   ]
  },
  {
   "cell_type": "code",
   "execution_count": 17,
   "id": "d38ead2f-e574-4442-845a-c06db6820246",
   "metadata": {
    "tags": []
   },
   "outputs": [
    {
     "name": "stderr",
     "output_type": "stream",
     "text": [
      "                                                                                \r"
     ]
    }
   ],
   "source": [
    "user_df = spark.read.json(user_filepath)"
   ]
  },
  {
   "cell_type": "code",
   "execution_count": 19,
   "id": "2268f277-5e83-4dfb-b632-afa0ddb914a9",
   "metadata": {
    "tags": []
   },
   "outputs": [
    {
     "name": "stderr",
     "output_type": "stream",
     "text": [
      "                                                                                \r"
     ]
    }
   ],
   "source": [
    "# Add columns for total_compliment and total_vote by other users\n",
    "user_df = user_df.withColumn(\"total_vote\", user_df.useful + user_df.funny + user_df.cool)\n",
    "user_df = user_df.withColumn(\"total_compliment\", user_df.compliment_cool + user_df.compliment_cute \\\n",
    "                             + user_df.compliment_funny + user_df.compliment_hot + user_df.compliment_list + user_df.compliment_more \\\n",
    "                             + user_df.compliment_note + user_df.compliment_photos + user_df.compliment_plain + user_df.compliment_profile \\\n",
    "                             + user_df.compliment_writer)\n",
    "cleaned_user_df = user_df.drop(\"friends\", 'review_count', 'average_starts')\n",
    "cleaned_user_df.write.mode(\"overwrite\").parquet(\"gs://info-323-qb-42/final_project/cleaned/yelp_user_cleaned.parquet\")"
   ]
  },
  {
   "cell_type": "markdown",
   "id": "44c4181e-5338-4893-a750-d51bf6b7286c",
   "metadata": {},
   "source": [
    "## Review Table"
   ]
  },
  {
   "cell_type": "markdown",
   "id": "3e5a931d-7fff-48fa-b9a7-b1d594513c99",
   "metadata": {},
   "source": [
    "- business_id\n",
    "- review_id\n",
    "- stars\n",
    "- user_id\n",
    "- review_timestamp\n",
    "\n",
    "**Total: 6 attributes**"
   ]
  },
  {
   "cell_type": "code",
   "execution_count": 20,
   "id": "68730555-f531-4de8-97ea-42b9378209a8",
   "metadata": {
    "tags": []
   },
   "outputs": [
    {
     "name": "stderr",
     "output_type": "stream",
     "text": [
      "                                                                                \r"
     ]
    }
   ],
   "source": [
    "review_df = spark.read.json(review_filepath)\n",
    "review_df = review_df.withColumn(\"review_timestamp\", to_timestamp(\"date\", \"yyyy-MM-dd HH:mm:ss\"))\n",
    "cleaned_review_df = review_df.drop(\"cool\", \"funny\", \"useful\", \"date\")\n",
    "cleaned_review_df.write.mode(\"overwrite\").parquet(\"gs://info-323-qb-42/final_project/cleaned/yelp_review_cleaned.parquet\")"
   ]
  },
  {
   "cell_type": "markdown",
   "id": "11084b62-5dd5-4d11-a253-fa94d9b7f813",
   "metadata": {
    "tags": []
   },
   "source": [
    "## Analysis"
   ]
  },
  {
   "cell_type": "code",
   "execution_count": 5,
   "id": "9de2d2e1-b223-4b52-b670-99c7c741ec35",
   "metadata": {
    "tags": []
   },
   "outputs": [
    {
     "name": "stderr",
     "output_type": "stream",
     "text": [
      "                                                                                \r"
     ]
    }
   ],
   "source": [
    "# Load parquet file\n",
    "user_df = spark.read.parquet(user_parquet)\n",
    "restaurant_df = spark.read.parquet(restaurant_parquet)\n",
    "review_df = spark.read.parquet(review_parquet)"
   ]
  },
  {
   "cell_type": "code",
   "execution_count": 26,
   "id": "c7d294bb-695e-4304-bbae-bc1f60289212",
   "metadata": {
    "tags": []
   },
   "outputs": [
    {
     "name": "stdout",
     "output_type": "stream",
     "text": [
      "root\n",
      " |-- average_stars: double (nullable = true)\n",
      " |-- compliment_cool: long (nullable = true)\n",
      " |-- compliment_cute: long (nullable = true)\n",
      " |-- compliment_funny: long (nullable = true)\n",
      " |-- compliment_hot: long (nullable = true)\n",
      " |-- compliment_list: long (nullable = true)\n",
      " |-- compliment_more: long (nullable = true)\n",
      " |-- compliment_note: long (nullable = true)\n",
      " |-- compliment_photos: long (nullable = true)\n",
      " |-- compliment_plain: long (nullable = true)\n",
      " |-- compliment_profile: long (nullable = true)\n",
      " |-- compliment_writer: long (nullable = true)\n",
      " |-- cool: long (nullable = true)\n",
      " |-- elite: string (nullable = true)\n",
      " |-- fans: long (nullable = true)\n",
      " |-- funny: long (nullable = true)\n",
      " |-- name: string (nullable = true)\n",
      " |-- useful: long (nullable = true)\n",
      " |-- user_id: string (nullable = true)\n",
      " |-- yelping_since: string (nullable = true)\n",
      " |-- total_vote: long (nullable = true)\n",
      " |-- total_compliment: long (nullable = true)\n",
      "\n",
      "root\n",
      " |-- address: string (nullable = true)\n",
      " |-- business_id: string (nullable = true)\n",
      " |-- categories: string (nullable = true)\n",
      " |-- city: string (nullable = true)\n",
      " |-- is_open: long (nullable = true)\n",
      " |-- latitude: double (nullable = true)\n",
      " |-- longitude: double (nullable = true)\n",
      " |-- name: string (nullable = true)\n",
      " |-- postal_code: string (nullable = true)\n",
      " |-- state: string (nullable = true)\n",
      " |-- BusinessAcceptsCreditCards: boolean (nullable = true)\n",
      " |-- ByAppointmentOnly: boolean (nullable = true)\n",
      " |-- RestaurantsDelivery: boolean (nullable = true)\n",
      " |-- OutdoorSeating: boolean (nullable = true)\n",
      " |-- RestaurantsReservations: boolean (nullable = true)\n",
      " |-- RestaurantsTakeOut: boolean (nullable = true)\n",
      " |-- RestaurantsAttire: boolean (nullable = true)\n",
      " |-- BusinessAcceptsBitcoin: boolean (nullable = true)\n",
      " |-- BYOB: boolean (nullable = true)\n",
      " |-- DogsAllowed: boolean (nullable = true)\n",
      " |-- HappyHour: boolean (nullable = true)\n",
      "\n",
      "root\n",
      " |-- business_id: string (nullable = true)\n",
      " |-- review_id: string (nullable = true)\n",
      " |-- stars: double (nullable = true)\n",
      " |-- text: string (nullable = true)\n",
      " |-- user_id: string (nullable = true)\n",
      " |-- review_timestamp: timestamp (nullable = true)\n",
      "\n"
     ]
    }
   ],
   "source": [
    "# Show schema\n",
    "user_df = spark.read.parquet(user_parquet).printSchema()\n",
    "restaurant_df = spark.read.parquet(restaurant_parquet).printSchema()\n",
    "review_df = spark.read.parquet(review_parquet).printSchema()"
   ]
  },
  {
   "cell_type": "code",
   "execution_count": 6,
   "id": "152b6ac9-9d66-4505-aebd-2d7656510536",
   "metadata": {
    "tags": []
   },
   "outputs": [],
   "source": [
    "joined_df = review_df.join(restaurant_df, on=\"business_id\", how=\"inner\")"
   ]
  },
  {
   "cell_type": "code",
   "execution_count": 8,
   "id": "d307670b-54c0-4f33-9f48-8fa3e1e21bfa",
   "metadata": {
    "tags": []
   },
   "outputs": [
    {
     "name": "stderr",
     "output_type": "stream",
     "text": [
      "[Stage 9:===================================================>     (36 + 4) / 40]\r"
     ]
    },
    {
     "name": "stdout",
     "output_type": "stream",
     "text": [
      "+-----+------------------+-----------+\n",
      "|state|avg_rating        |num_reviews|\n",
      "+-----+------------------+-----------+\n",
      "|LA   |3.905077843231546 |133088     |\n",
      "|CA   |3.884833831345088 |43841      |\n",
      "|FL   |3.841561093374547 |177286     |\n",
      "|IN   |3.8210063733552633|77824      |\n",
      "|MO   |3.8151270758683427|90143      |\n",
      "|TN   |3.8087977382720783|104345     |\n",
      "|ID   |3.8030344954805386|21684      |\n",
      "|PA   |3.76746416840848  |267920     |\n",
      "|NV   |3.762362515325432 |56279      |\n",
      "|AZ   |3.7408887254246355|59816      |\n",
      "|DE   |3.646779729456895 |9906       |\n",
      "|AB   |3.6448957189901208|16398      |\n",
      "|NJ   |3.623893107410829 |44381      |\n",
      "|IL   |3.6235867878519175|9022       |\n",
      "+-----+------------------+-----------+\n",
      "\n"
     ]
    },
    {
     "name": "stderr",
     "output_type": "stream",
     "text": [
      "                                                                                \r"
     ]
    }
   ],
   "source": [
    "state_success = joined_df.groupBy(\"state\").agg(\n",
    "    avg(\"stars\").alias(\"avg_rating\"),\n",
    "    count(\"review_id\").alias(\"num_reviews\")\n",
    ").filter(col(\"num_reviews\") > 2000) \\\n",
    " .orderBy(col(\"avg_rating\").desc())\n",
    "\n",
    "state_success.show(truncate=False)"
   ]
  },
  {
   "cell_type": "code",
   "execution_count": 9,
   "id": "8e5971bf-c6fe-43f1-a329-0231b72d8fd9",
   "metadata": {
    "tags": []
   },
   "outputs": [
    {
     "name": "stderr",
     "output_type": "stream",
     "text": [
      "[Stage 13:===================================================>    (37 + 3) / 40]\r"
     ]
    },
    {
     "name": "stdout",
     "output_type": "stream",
     "text": [
      "+----------------+------------------+-----------+\n",
      "|city            |avg_rating        |num_reviews|\n",
      "+----------------+------------------+-----------+\n",
      "|Tarpon Springs  |4.241073689541656 |3949       |\n",
      "|Saint Petersburg|4.081200419098938 |13362      |\n",
      "|St. Pete Beach  |4.068922305764411 |3192       |\n",
      "|University City |4.043198181129216 |2639       |\n",
      "|St Pete Beach   |4.035266457680251 |2552       |\n",
      "|Madeira Beach   |3.995124329595319 |2051       |\n",
      "|Dunedin         |3.989559877175026 |4885       |\n",
      "|Clayton         |3.971918134221799 |4202       |\n",
      "|Carpinteria     |3.965330117576123 |3317       |\n",
      "|Collingswood    |3.9537414965986395|2205       |\n",
      "|St. Petersburg  |3.9413915229064322|8753       |\n",
      "|Newtown         |3.9372837370242215|2312       |\n",
      "|New Orleans     |3.9333190509346045|112026     |\n",
      "|Santa Barbara   |3.917869317276753 |31389      |\n",
      "|Boise           |3.8893529525155817|15563      |\n",
      "|Wesley Chapel   |3.8862188766647368|3454       |\n",
      "|Indianapolis    |3.8770054379031986|59214      |\n",
      "|St Louis        |3.872462657985446 |5222       |\n",
      "|St. Louis       |3.870219336447858 |12629      |\n",
      "|Doylestown      |3.8594114899579637|2141       |\n",
      "+----------------+------------------+-----------+\n",
      "only showing top 20 rows\n",
      "\n"
     ]
    },
    {
     "name": "stderr",
     "output_type": "stream",
     "text": [
      "                                                                                \r"
     ]
    }
   ],
   "source": [
    "city_success = joined_df.groupBy(\"city\").agg(\n",
    "    avg(\"stars\").alias(\"avg_rating\"),\n",
    "    count(\"review_id\").alias(\"num_reviews\")\n",
    ").filter(col(\"num_reviews\") > 2000) \\\n",
    " .orderBy(col(\"avg_rating\").desc())\n",
    "\n",
    "city_success.show(truncate=False)"
   ]
  },
  {
   "cell_type": "code",
   "execution_count": 40,
   "id": "3793265c-9683-4b48-bef0-04721c0bb92d",
   "metadata": {
    "tags": []
   },
   "outputs": [
    {
     "name": "stderr",
     "output_type": "stream",
     "text": [
      "[Stage 105:=====================================================> (39 + 1) / 40]\r"
     ]
    },
    {
     "name": "stdout",
     "output_type": "stream",
     "text": [
      "+----------------------+------------------+-----------+\n",
      "|business_id           |avg_rating        |num_reviews|\n",
      "+----------------------+------------------+-----------+\n",
      "|UFCN0bYdHroPKu6KV5CJqg|4.471453287197232 |2312       |\n",
      "|mhrW9O0O5hXGXGnEYBVoag|4.36218864842793  |2449       |\n",
      "|UCMSWPqzXjd7QHq7v8PJjQ|4.3914798206278025|2230       |\n",
      "|vN6v8m4DO45Z4pp8yxxF_w|4.460849056603774 |2120       |\n",
      "|C9K3579SJgLPp0oAOM29wg|4.344792024750774 |2909       |\n",
      "|_C7QiQQc47AOEv4PE3Kong|4.29201046488227  |4969       |\n",
      "|8uF-bhJFgT4Tn6DTb27viA|4.378199052132701 |2110       |\n",
      "|W4ZEKkva9HpAdZG88juwyQ|4.19281663516068  |2116       |\n",
      "|pSmOH4a3HNNpYM82J5ycLA|3.997608799617408 |2091       |\n",
      "|Zi-F-YvyVOK0k5QD7lrLOg|4.225099601593626 |2008       |\n",
      "|GBTPC53ZrG1ZBY3DT8Mbcw|4.177429736108131 |4661       |\n",
      "|SZU9c8V2GuREDN5KgyHFJw|3.911620294599018 |2444       |\n",
      "|VQcCL9PiNL_wkGf-uF3fjg|3.7866303925378935|5146       |\n",
      "|ctHjyadbDQAtUFfkcAFEHw|4.5486920895052005|3173       |\n",
      "|hfbZ97Te3T4jeWN6GgsGrQ|4.246829268292683 |2050       |\n",
      "|S8ZFYEgMejpChID8tzKo9A|4.171600370027752 |2162       |\n",
      "|xlMQBBt9wrtahdqiRDcVSg|4.44996180290298  |2618       |\n",
      "|DcBLYSvOuWcNReolRVr12A|3.603668013677339 |3217       |\n",
      "|j-qtdD55OLfSqfsWuQTDJg|4.146671289875173 |2884       |\n",
      "+----------------------+------------------+-----------+\n",
      "\n"
     ]
    },
    {
     "name": "stderr",
     "output_type": "stream",
     "text": [
      "                                                                                \r"
     ]
    }
   ],
   "source": [
    "# Aggregate: average rating and review count per business\n",
    "restaurant_stats_df = joined_df.groupBy(\"business_id\").agg(\n",
    "    avg(\"stars\").alias(\"avg_rating\"),\n",
    "    count(\"review_id\").alias(\"num_reviews\")\n",
    ")\n",
    "\n",
    "# Filter only restaurants with more than 2000 reviews\n",
    "top_restaurants_df = restaurant_stats_df.filter(col(\"num_reviews\") > 2000)\n",
    "\n",
    "# Show the result\n",
    "top_restaurants_df.show(truncate=False)"
   ]
  },
  {
   "cell_type": "code",
   "execution_count": 10,
   "id": "069bacee-7e03-463c-8d8d-8c25ba26d5e5",
   "metadata": {
    "tags": []
   },
   "outputs": [
    {
     "name": "stderr",
     "output_type": "stream",
     "text": [
      "[Stage 17:======================================================> (39 + 1) / 40]\r"
     ]
    },
    {
     "name": "stdout",
     "output_type": "stream",
     "text": [
      "+--------------------+------------------+-----------+\n",
      "|city_state          |avg_rating        |num_reviews|\n",
      "+--------------------+------------------+-----------+\n",
      "|Tarpon Springs, FL  |4.241073689541656 |3949       |\n",
      "|Saint Petersburg, FL|4.081200419098938 |13362      |\n",
      "|St. Pete Beach, FL  |4.068922305764411 |3192       |\n",
      "|University City, MO |4.043198181129216 |2639       |\n",
      "|St Pete Beach, FL   |4.035266457680251 |2552       |\n",
      "|Madeira Beach, FL   |3.995124329595319 |2051       |\n",
      "|Dunedin, FL         |3.989559877175026 |4885       |\n",
      "|Clayton, MO         |3.9785954785954787|4158       |\n",
      "|Carpinteria, CA     |3.965330117576123 |3317       |\n",
      "|Collingswood, NJ    |3.9537414965986395|2205       |\n",
      "|St. Petersburg, FL  |3.9413915229064322|8753       |\n",
      "|Newtown, PA         |3.9372837370242215|2312       |\n",
      "|New Orleans, LA     |3.9333190509346045|112026     |\n",
      "|Santa Barbara, CA   |3.917869317276753 |31389      |\n",
      "|Boise, ID           |3.8893529525155817|15563      |\n",
      "|Wesley Chapel, FL   |3.8862188766647368|3454       |\n",
      "|Indianapolis, IN    |3.8770054379031986|59214      |\n",
      "|St Louis, MO        |3.872462657985446 |5222       |\n",
      "|St. Louis, MO       |3.870219336447858 |12629      |\n",
      "|Doylestown, PA      |3.8594114899579637|2141       |\n",
      "+--------------------+------------------+-----------+\n",
      "only showing top 20 rows\n",
      "\n"
     ]
    },
    {
     "name": "stderr",
     "output_type": "stream",
     "text": [
      "                                                                                \r"
     ]
    }
   ],
   "source": [
    "from pyspark.sql.functions import concat_ws\n",
    "\n",
    "# Create a new column that combines city and state\n",
    "joined_df = joined_df.withColumn(\"city_state\", concat_ws(\", \", col(\"city\"), col(\"state\")))\n",
    "\n",
    "# Group by the new combined column and compute metrics\n",
    "city_state_success = joined_df.groupBy(\"city_state\").agg(\n",
    "    avg(\"stars\").alias(\"avg_rating\"),\n",
    "    count(\"review_id\").alias(\"num_reviews\")\n",
    ").filter(col(\"num_reviews\") > 2000) \\\n",
    " .orderBy(col(\"avg_rating\").desc())\n",
    "\n",
    "# Show results\n",
    "city_state_success.show(truncate=False)"
   ]
  },
  {
   "cell_type": "code",
   "execution_count": 12,
   "id": "9174a721-41ac-43e9-b217-bf2b62f1144c",
   "metadata": {
    "tags": []
   },
   "outputs": [
    {
     "name": "stderr",
     "output_type": "stream",
     "text": [
      "[Stage 23:=================================================>      (35 + 5) / 40]\r"
     ]
    },
    {
     "name": "stdout",
     "output_type": "stream",
     "text": [
      "+------------+-----------+\n",
      "|review_month|num_reviews|\n",
      "+------------+-----------+\n",
      "|           1|     604532|\n",
      "|           2|     544125|\n",
      "|           3|     598555|\n",
      "|           4|     551471|\n",
      "|           5|     586575|\n",
      "|           6|     601737|\n",
      "|           7|     654627|\n",
      "|           8|     636384|\n",
      "|           9|     565374|\n",
      "|          10|     571809|\n",
      "|          11|     531518|\n",
      "|          12|     543573|\n",
      "+------------+-----------+\n",
      "\n"
     ]
    },
    {
     "name": "stderr",
     "output_type": "stream",
     "text": [
      "                                                                                \r"
     ]
    }
   ],
   "source": [
    "from pyspark.sql.functions import month, year, count\n",
    "\n",
    "# Add year and month columns\n",
    "review_df = review_df.withColumn(\"review_year\", year(\"review_timestamp\")) \\\n",
    "                     .withColumn(\"review_month\", month(\"review_timestamp\"))\n",
    "\n",
    "# Count reviews per month/year\n",
    "monthly_review_counts = review_df.groupBy(\"review_year\", \"review_month\") \\\n",
    "    .agg(count(\"*\").alias(\"num_reviews\")) \\\n",
    "    .orderBy(\"review_year\", \"review_month\")\n",
    "\n",
    "# Aggregate across all years by month only\n",
    "monthly_trend = review_df.groupBy(\"review_month\") \\\n",
    "    .agg(count(\"*\").alias(\"num_reviews\")) \\\n",
    "    .orderBy(\"review_month\")\n",
    "\n",
    "monthly_trend.show()"
   ]
  },
  {
   "cell_type": "code",
   "execution_count": 13,
   "id": "114c76ab-b133-43b2-bf51-82eeaab5560b",
   "metadata": {
    "tags": []
   },
   "outputs": [
    {
     "name": "stderr",
     "output_type": "stream",
     "text": [
      "                                                                                \r"
     ]
    },
    {
     "data": {
      "image/png": "[encoded data removed]",
      "text/plain": [
       "<Figure size 1000x600 with 1 Axes>"
      ]
     },
     "metadata": {},
     "output_type": "display_data"
    }
   ],
   "source": [
    "# Convert to Pandas for plotting\n",
    "monthly_trend_pd = monthly_trend.toPandas()\n",
    "\n",
    "# Plot using matplotlib\n",
    "import matplotlib.pyplot as plt\n",
    "\n",
    "plt.figure(figsize=(10, 6))\n",
    "plt.bar(monthly_trend_pd[\"review_month\"], monthly_trend_pd[\"num_reviews\"], color=\"skyblue\")\n",
    "plt.xticks(range(1, 13))\n",
    "plt.xlabel(\"Month\")\n",
    "plt.ylabel(\"Number of Reviews\")\n",
    "plt.title(\"Monthly Review Volume\")\n",
    "plt.grid(axis='y', linestyle='--', alpha=0.7)\n",
    "plt.tight_layout()\n",
    "plt.show()"
   ]
  },
  {
   "cell_type": "code",
   "execution_count": 26,
   "id": "cbf448e6-acf8-4f0b-b9bb-d56eaa04a41e",
   "metadata": {
    "tags": []
   },
   "outputs": [],
   "source": [
    "# Join review and restaurant data\n",
    "joined_df = review_df.join(restaurant_df, on=\"business_id\", how=\"inner\")\n",
    "\n",
    "# Aggregate review data per business\n",
    "from pyspark.sql.functions import avg, count\n",
    "\n",
    "agg_df = joined_df.groupBy(\"business_id\").agg(\n",
    "    avg(\"stars\").alias(\"avg_rating\"),\n",
    "    count(\"review_id\").alias(\"review_count\")\n",
    ")\n",
    "\n",
    "# Join back to restaurant features\n",
    "features_df = agg_df.join(restaurant_df, on=\"business_id\", how=\"inner\")"
   ]
  },
  {
   "cell_type": "code",
   "execution_count": 31,
   "id": "b905975e-63e9-4ca0-bc2b-899c46695dd8",
   "metadata": {
    "tags": []
   },
   "outputs": [],
   "source": [
    "selected_cols = [\n",
    "    \"BusinessAcceptsCreditCards\",\n",
    "    \"RestaurantsDelivery\",\n",
    "    \"OutdoorSeating\",\n",
    "    \"RestaurantsReservations\",   \n",
    "    \"RestaurantsTakeOut\"          \n",
    "]\n",
    "\n",
    "# Join with non-null avg_rating and review_count\n",
    "final_cols = [\"avg_rating\", \"review_count\"] + selected_cols\n",
    "\n",
    "# Filter out rows missing avg_rating or review_count, then fill booleans\n",
    "data = features_df.select(*final_cols) \\\n",
    "    .filter(\"avg_rating IS NOT NULL AND review_count IS NOT NULL\") \\\n",
    "    .fillna(False)"
   ]
  },
  {
   "cell_type": "code",
   "execution_count": 30,
   "id": "81351083-ba9e-4c67-959f-7a6a6a2f87df",
   "metadata": {
    "tags": []
   },
   "outputs": [
    {
     "name": "stderr",
     "output_type": "stream",
     "text": [
      "[Stage 105:=================================================>     (36 + 4) / 40]\r"
     ]
    },
    {
     "name": "stdout",
     "output_type": "stream",
     "text": [
      "RMSE: 0.7710347617376422\n"
     ]
    },
    {
     "name": "stderr",
     "output_type": "stream",
     "text": [
      "                                                                                \r"
     ]
    }
   ],
   "source": [
    "from pyspark.ml.feature import StringIndexer, VectorAssembler\n",
    "from pyspark.ml.regression import RandomForestRegressor\n",
    "from pyspark.ml.evaluation import RegressionEvaluator\n",
    "from pyspark.ml.tuning import TrainValidationSplit, ParamGridBuilder\n",
    "\n",
    "feature_cols = [c for c in data.columns if c != \"avg_rating\"]\n",
    "assembler = VectorAssembler(inputCols=feature_cols, outputCol=\"features\")\n",
    "final_data = assembler.transform(data).select(\"features\", \"avg_rating\")\n",
    "\n",
    "# Split and train\n",
    "train, test = final_data.randomSplit([0.8, 0.2], seed=42)\n",
    "rf = RandomForestRegressor(labelCol=\"avg_rating\", featuresCol=\"features\")\n",
    "model = rf.fit(train)\n",
    "\n",
    "# Predict and evaluate\n",
    "predictions = model.transform(test)\n",
    "rmse = RegressionEvaluator(labelCol=\"avg_rating\", predictionCol=\"prediction\", metricName=\"rmse\").evaluate(predictions)\n",
    "print(f\"RMSE: {rmse}\")"
   ]
  }
 ],
 "metadata": {
  "environment": {
   "kernel": "9c39b79e5d2e7072beb4bd59-runtime-0000b1d652aa",
   "name": "workbench-notebooks.m129",
   "type": "gcloud",
   "uri": "us-docker.pkg.dev/deeplearning-platform-release/gcr.io/workbench-notebooks:m129"
  },
  "kernelspec": {
   "display_name": "venv",
   "language": "python",
   "name": "python3"
  },
  "language_info": {
   "codemirror_mode": {
    "name": "ipython",
    "version": 3
   },
   "file_extension": ".py",
   "mimetype": "text/x-python",
   "name": "python",
   "nbconvert_exporter": "python",
   "pygments_lexer": "ipython3",
   "version": "3.13.2"
  }
 },
 "nbformat": 4,
 "nbformat_minor": 5
}
